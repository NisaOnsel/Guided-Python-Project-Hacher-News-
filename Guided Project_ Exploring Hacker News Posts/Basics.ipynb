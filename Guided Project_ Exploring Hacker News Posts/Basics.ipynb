{
 "cells": [
  {
   "cell_type": "markdown",
   "metadata": {
    "collapsed": true
   },
   "source": [
    "# Exploring Hacker News Posts: Ask Hacker News versus Show Hacker News\n",
    "\n",
    "Hacker News is a popular technology site where users submit posts and receive votes and comments. \n",
    "The posts whose title begin with **Ask HN** are submitted by the users to ask the Hacker News community a specific question. The posts that start with **Show HN** are submitted to show the Hacker News community a project, product, or something interesting. \n",
    "In this analysis, We will compare these two types of posts to determine the following:\n",
    "1. Which type of posts receive more comments?\n",
    "2. Do the posts created at a certain time receive more comments on average? \n",
    "\n",
    "The original data can be found [here](https://www.kaggle.com/hacker-news/hacker-news-posts). This data set includes 300,000 rows of data each being a post. In this analysis we use a sample taken from this data set (20,000 rows). \n",
    "\n",
    "## Exploring Data\n",
    "\n",
    "We open and read the data file. We will see the first 4 rows of the data to get a picture.\n"
   ]
  },
  {
   "cell_type": "code",
   "execution_count": 47,
   "metadata": {
    "collapsed": false,
    "scrolled": true
   },
   "outputs": [
    {
     "name": "stdout",
     "output_type": "stream",
     "text": [
      "['id', 'title', 'url', 'num_points', 'num_comments', 'author', 'created_at']\n",
      "['12224879', 'Interactive Dynamic Video', 'http://www.interactivedynamicvideo.com/', '386', '52', 'ne0phyte', '8/4/2016 11:52'] \n",
      "\n",
      "['10975351', 'How to Use Open Source and Shut the Fuck Up at the Same Time', 'http://hueniverse.com/2016/01/26/how-to-use-open-source-and-shut-the-fuck-up-at-the-same-time/', '39', '10', 'josep2', '1/26/2016 19:30'] \n",
      "\n",
      "['11964716', \"Florida DJs May Face Felony for April Fools' Water Joke\", 'http://www.thewire.com/entertainment/2013/04/florida-djs-april-fools-water-joke/63798/', '2', '1', 'vezycash', '6/23/2016 22:20'] \n",
      "\n"
     ]
    }
   ],
   "source": [
    "# Open and Read the file\n",
    "opened_file= open('hacker_news.csv')\n",
    "from csv import reader \n",
    "read_file=reader(opened_file)\n",
    "hn=list(read_file)\n",
    "\n",
    "headers=hn[0]  #First row is the header row\n",
    "hn=hn[1:]      #First row is removed from the hn list of lists\n",
    "\n",
    "#Quick exploration of the data\n",
    "print(headers)\n",
    "for row in hn[:3]:\n",
    "    print(row, '\\n')\n"
   ]
  },
  {
   "cell_type": "markdown",
   "metadata": {},
   "source": [
    "### Average Number of comments received by each type of posts\n",
    "We calculate the number of Ask HN type posts and Show HN type posts below, and then calculate the average number of comments received by each type of posts. "
   ]
  },
  {
   "cell_type": "code",
   "execution_count": 26,
   "metadata": {
    "collapsed": false,
    "scrolled": true
   },
   "outputs": [
    {
     "name": "stdout",
     "output_type": "stream",
     "text": [
      "Number of Ask HN type posts:  1744\n",
      "Number of Show HN type posts:  1162\n",
      "Other posts:  17194\n"
     ]
    }
   ],
   "source": [
    "#Grouping the posts as ask/show/other\n",
    "ask_posts=[]\n",
    "show_posts=[]\n",
    "other_posts=[]\n",
    "\n",
    "for row in hn:\n",
    "    title=row[1]\n",
    "    title=title.lower()\n",
    "    if title.startswith(\"ask hn\"):\n",
    "        ask_posts.append(row)\n",
    "    elif title.startswith(\"show hn\"):\n",
    "        show_posts.append(row)\n",
    "    else:\n",
    "        other_posts.append(row)\n",
    "\n",
    "print('Number of Ask HN type posts: ', len(ask_posts))\n",
    "print('Number of Show HN type posts: ', len(show_posts))\n",
    "print('Other posts: ',len(other_posts))\n",
    "    "
   ]
  },
  {
   "cell_type": "code",
   "execution_count": 8,
   "metadata": {
    "collapsed": false
   },
   "outputs": [
    {
     "name": "stdout",
     "output_type": "stream",
     "text": [
      "Average number of comments for Ask HN posts are 14\n",
      "Average number of comments for Show HN posts are 10\n"
     ]
    }
   ],
   "source": [
    "#Average number of comments of Ask posts \n",
    "total_ask_comments=0\n",
    "for row in ask_posts:\n",
    "    total_ask_comments=total_ask_comments+int(row[4])\n",
    "avg_ask_comments=total_ask_comments/len(ask_posts)\n",
    "\n",
    "print('Average number of comments for Ask HN posts are ' + str(round(avg_ask_comments)))\n",
    "\n",
    "#Average number of comments of Show posts\n",
    "total_show_comments=0\n",
    "for row in show_posts:\n",
    "    total_show_comments=total_show_comments+int(row[4])\n",
    "avg_show_comments=total_show_comments/len(show_posts)\n",
    "\n",
    "print('Average number of comments for Show HN posts are ' + str(round(avg_show_comments))) \n",
    "\n",
    " "
   ]
  },
  {
   "cell_type": "markdown",
   "metadata": {},
   "source": [
    "We found that average number of comments for **Ask HN** types of posts are **14** and **Show HN** types of posts are **10**.\n",
    "\n",
    "### Best timing for submitting Ask HN post\n",
    "Now we will explore if the posts that are created at a certain time are more likely to attract comments. We will  limit our analysis to Ask type posts since they receive more comments. "
   ]
  },
  {
   "cell_type": "code",
   "execution_count": 38,
   "metadata": {
    "collapsed": false
   },
   "outputs": [
    {
     "name": "stdout",
     "output_type": "stream",
     "text": [
      "{'04': 47, '20': 80, '01': 60, '07': 34, '21': 109, '22': 71, '09': 45, '14': 107, '02': 58, '00': 55, '03': 54, '17': 100, '10': 59, '13': 85, '06': 44, '11': 58, '12': 73, '15': 116, '16': 108, '18': 109, '23': 68, '19': 110, '05': 46, '08': 48}\n",
      "{'04': 337, '20': 1722, '01': 683, '07': 267, '21': 1745, '22': 479, '09': 251, '14': 1416, '02': 1381, '00': 447, '03': 421, '17': 1146, '10': 793, '13': 1253, '06': 397, '11': 641, '12': 687, '15': 4477, '16': 1814, '18': 1439, '23': 543, '19': 1188, '05': 464, '08': 492}\n"
     ]
    }
   ],
   "source": [
    "import datetime as dt\n",
    "\n",
    "result_list=[]   # list of lists: [hour, number of comments] for each ask_hn post \n",
    "\n",
    "for row in ask_posts:\n",
    "    temp=[]\n",
    "    temp.append(row[6])        # the time the post is created\n",
    "    temp.append(int(row[4]))    # number of comments\n",
    "    result_list.append(temp)\n",
    "\n",
    "# Frequency tables for hours of posts\n",
    "counts_by_hour={}\n",
    "comments_by_hour={}\n",
    "\n",
    "for row in result_list:\n",
    "    formatted_time=dt.datetime.strptime(row[0], \"%m/%d/%Y %H:%M\")\n",
    "    #hour=formatted_time.hour # this also works, but hour returns as int type\n",
    "    hour=formatted_time.strftime(\"%H\")\n",
    "    \n",
    "    if hour not in counts_by_hour:\n",
    "        counts_by_hour[hour]=1\n",
    "        comments_by_hour[hour]=row[1]\n",
    "    else:\n",
    "        counts_by_hour[hour]+=1\n",
    "        comments_by_hour[hour]=comments_by_hour[hour]+row[1]\n",
    "\n",
    "print(counts_by_hour) \n",
    "print(comments_by_hour)\n",
    "\n",
    "# Here we calculated number of posts in each hour of the day \n",
    "# and the number of total comments\n"
   ]
  },
  {
   "cell_type": "code",
   "execution_count": 39,
   "metadata": {
    "collapsed": false,
    "scrolled": true
   },
   "outputs": [
    {
     "name": "stdout",
     "output_type": "stream",
     "text": [
      "[['04', 7.170212765957447], ['20', 21.525], ['01', 11.383333333333333], ['07', 7.852941176470588], ['21', 16.009174311926607], ['22', 6.746478873239437], ['09', 5.5777777777777775], ['14', 13.233644859813085], ['02', 23.810344827586206], ['00', 8.127272727272727], ['03', 7.796296296296297], ['17', 11.46], ['10', 13.440677966101696], ['13', 14.741176470588234], ['06', 9.022727272727273], ['11', 11.051724137931034], ['12', 9.41095890410959], ['15', 38.5948275862069], ['16', 16.796296296296298], ['18', 13.20183486238532], ['23', 7.985294117647059], ['19', 10.8], ['05', 10.08695652173913], ['08', 10.25]]\n"
     ]
    }
   ],
   "source": [
    "#Frequency table of average comments by hour \n",
    "avg_by_hour=[]\n",
    "\n",
    "for hours in counts_by_hour:\n",
    "    avg_by_hour.append([hours,comments_by_hour[hours]/counts_by_hour[hours]])\n",
    "\n",
    "print(avg_by_hour)\n",
    "\n",
    "    "
   ]
  },
  {
   "cell_type": "code",
   "execution_count": 40,
   "metadata": {
    "collapsed": false
   },
   "outputs": [
    {
     "name": "stdout",
     "output_type": "stream",
     "text": [
      "Top 5 Hours for Ask Posts Comments\n",
      "15:00: 38.59 average comments per post.\n",
      "02:00: 23.81 average comments per post.\n",
      "20:00: 21.52 average comments per post.\n",
      "16:00: 16.80 average comments per post.\n",
      "21:00: 16.01 average comments per post.\n"
     ]
    }
   ],
   "source": [
    "# Sorting the frequency table\n",
    "swap_avg_by_hour=[]\n",
    "for row in avg_by_hour:\n",
    "    temp=[]\n",
    "    temp.append(row[1])\n",
    "    temp.append(row[0])\n",
    "    swap_avg_by_hour.append(temp)\n",
    "    \n",
    "sorted_swap=sorted(swap_avg_by_hour, reverse=True)\n",
    "print(\"Top 5 Hours for Ask Posts Comments\")\n",
    "\n",
    "#Display the first 5 rows of the frequency table of avg comments by hour\n",
    "for row in sorted_swap[:5]:\n",
    "    dtt=dt.datetime.strptime(row[1],\"%H\")\n",
    "    d=dtt.strftime(\"%H\")\n",
    "    var=\"{}:00: {:.2f} average comments per post.\".format(d,row[0])\n",
    "    print(var)\n",
    "    \n",
    "\n"
   ]
  },
  {
   "cell_type": "markdown",
   "metadata": {},
   "source": [
    "## Results \n",
    "We have found that the highest number of comments are received when a Ask HN type of a post is created at about **15:00** (3:00 pm). This is well ahead of the second time which is at **02:00** (2:00 am). **20:00** (8:00 pm), **16:00** and **21:00** follow them as the third to fifth best times to create a post for the most comments. \n",
    "## Conclusion\n",
    "We have been looking for the types of titles of the posts that  receive the most attention as well as the best timing for the posts. We find that on average, a title starting with Ask HN receives more comments than a title starting with Show HN.\n",
    "* Average number of comments for Ask HN posts: 14\n",
    "* Average number of comments for Show HN posts: 10\n",
    "\n",
    "In terms of timing, the best time of the day to post is 3:00 pm EST. However the best times are spreaded throughout the day, so we can't observe a pattern for the timing with this limited analysis. An important note to be added at this point is that the time zone of the data is EST time, but the users of Hacker News website are from all around the world.\n",
    "\n"
   ]
  },
  {
   "cell_type": "markdown",
   "metadata": {},
   "source": [
    "## Further Analysis\n",
    "Let's check what is happening in terms of the points. Points are calculated as the total number of upvotes minus the total number of downvotes. So this is a measure of attractiveness of the posts as well. \n",
    "First we will calculate the average number of points received by Ask posts and Show posts."
   ]
  },
  {
   "cell_type": "code",
   "execution_count": 41,
   "metadata": {
    "collapsed": false
   },
   "outputs": [
    {
     "name": "stdout",
     "output_type": "stream",
     "text": [
      "Average number of points for Ask HN posts are 15.06\n",
      "Average number of points for Show HN posts are 27.56\n"
     ]
    }
   ],
   "source": [
    "#Function for calculating the average points for a given list\n",
    "def avg_points(liste):\n",
    "    totalpoints=0\n",
    "    for row in liste:\n",
    "        totalpoints=totalpoints+int(row[3])\n",
    "    avg_points=totalpoints/len(liste)\n",
    "    return round(avg_points,2)\n",
    "\n",
    "avg_ask_points=avg_points(ask_posts)\n",
    "avg_show_points=avg_points(show_posts)\n",
    "\n",
    "print('Average number of points for Ask HN posts are ' + str(avg_ask_points))\n",
    "print('Average number of points for Show HN posts are ' + str(avg_show_points))\n"
   ]
  },
  {
   "cell_type": "markdown",
   "metadata": {},
   "source": [
    "So, Show HN posts receive more points on average. Let's check the relationship between the time of the posts and the points received. "
   ]
  },
  {
   "cell_type": "code",
   "execution_count": 44,
   "metadata": {
    "collapsed": false,
    "scrolled": true
   },
   "outputs": [
    {
     "name": "stdout",
     "output_type": "stream",
     "text": [
      "{'04': 47, '20': 80, '01': 60, '07': 34, '21': 109, '22': 71, '09': 45, '14': 107, '02': 58, '00': 55, '03': 54, '17': 100, '10': 59, '13': 85, '06': 44, '11': 58, '12': 73, '15': 116, '16': 108, '18': 109, '23': 68, '19': 110, '05': 46, '08': 48}\n",
      "{'04': 389, '20': 1151, '01': 700, '07': 361, '21': 1721, '22': 511, '09': 329, '14': 1282, '02': 793, '00': 451, '03': 374, '17': 1941, '10': 1102, '13': 2062, '06': 591, '11': 825, '12': 782, '15': 3479, '16': 2522, '18': 1741, '23': 581, '19': 1513, '05': 552, '08': 515}\n"
     ]
    }
   ],
   "source": [
    "def point_list(liste):\n",
    "    point_list=[]   #list of lists: [hour, number of points] for each post in the list \n",
    "    for row in liste:\n",
    "        temp=[]\n",
    "        temp.append(row[6])\n",
    "        temp.append(int(row[3]))\n",
    "        point_list.append(temp)\n",
    "    return point_list\n",
    "\n",
    "askhn_points_list=point_list(ask_posts)\n",
    "showhn_points_list=point_list(show_posts)\n",
    "\n",
    "#Frequency tables \n",
    "ask_posts_by_hour={}\n",
    "ask_points_by_hour={}\n",
    "\n",
    "#Formatting the time column and taking out the \"hour\" \n",
    "for row in askhn_points_list:\n",
    "    formatted_time=dt.datetime.strptime(row[0], \"%m/%d/%Y %H:%M\")\n",
    "    #hour=formatted_time.hour # this also works, but hour returns as int type\n",
    "    hour=formatted_time.strftime(\"%H\")\n",
    "    \n",
    "    if hour not in ask_posts_by_hour:\n",
    "        ask_posts_by_hour[hour]=1\n",
    "        ask_points_by_hour[hour]=row[1]\n",
    "    else:\n",
    "        ask_posts_by_hour[hour]+=1\n",
    "        ask_points_by_hour[hour]=ask_points_by_hour[hour]+row[1]\n",
    "\n",
    "print(ask_posts_by_hour) \n",
    "print(ask_points_by_hour)\n",
    "\n",
    "# Here we calculated number of posts in each hour of the day \n",
    "# (which we calculated before) and the number of total points"
   ]
  },
  {
   "cell_type": "code",
   "execution_count": 45,
   "metadata": {
    "collapsed": false
   },
   "outputs": [
    {
     "name": "stdout",
     "output_type": "stream",
     "text": [
      "[['04', 8.27659574468085], ['20', 14.3875], ['01', 11.666666666666666], ['07', 10.617647058823529], ['21', 15.788990825688073], ['22', 7.197183098591549], ['09', 7.311111111111111], ['14', 11.981308411214954], ['02', 13.672413793103448], ['00', 8.2], ['03', 6.925925925925926], ['17', 19.41], ['10', 18.677966101694917], ['13', 24.258823529411764], ['06', 13.431818181818182], ['11', 14.224137931034482], ['12', 10.712328767123287], ['15', 29.99137931034483], ['16', 23.35185185185185], ['18', 15.972477064220184], ['23', 8.544117647058824], ['19', 13.754545454545454], ['05', 12.0], ['08', 10.729166666666666]]\n"
     ]
    }
   ],
   "source": [
    "avg_ask_points_by_hour=[]\n",
    "\n",
    "for hours in ask_posts_by_hour:\n",
    "    avg_ask_points_by_hour.append([hours,ask_points_by_hour[hours]/ask_posts_by_hour[hours]])\n",
    "\n",
    "print(avg_ask_points_by_hour)"
   ]
  },
  {
   "cell_type": "code",
   "execution_count": 34,
   "metadata": {
    "collapsed": false,
    "scrolled": true
   },
   "outputs": [
    {
     "name": "stdout",
     "output_type": "stream",
     "text": [
      "Top 5 Hours for Ask Posts Points\n",
      "15:00: 29.99 average points per post.\n",
      "13:00: 24.26 average points per post.\n",
      "16:00: 23.35 average points per post.\n",
      "17:00: 19.41 average points per post.\n",
      "10:00: 18.68 average points per post.\n"
     ]
    }
   ],
   "source": [
    "swap_avg_ask_points_by_hour=[]\n",
    "for row in avg_ask_points_by_hour:\n",
    "    temp=[]\n",
    "    temp.append(row[1])\n",
    "    temp.append(row[0])\n",
    "    swap_avg_ask_points_by_hour.append(temp)\n",
    "    \n",
    "sorted_swap_ask_points=sorted(swap_avg_ask_points_by_hour, reverse=True)\n",
    "print(\"Top 5 Hours for Ask Posts Points\")\n",
    "\n",
    "for row in sorted_swap_ask_points[:5]:\n",
    "    dtt=dt.datetime.strptime(row[1],\"%H\")\n",
    "    d=dtt.strftime(\"%H\")\n",
    "    var=\"{}:00: {:.2f} average points per post.\".format(d,row[0],2)\n",
    "    print(var)\n"
   ]
  },
  {
   "cell_type": "markdown",
   "metadata": {
    "collapsed": true
   },
   "source": [
    "Ask posts created at 15:00 receive the highest number of points. Generally, the afternoon posts of the Ask-HN type receive the top points. \n",
    "\n",
    "Lets find the average points per post for the Show_HN Posts"
   ]
  },
  {
   "cell_type": "code",
   "execution_count": 46,
   "metadata": {
    "collapsed": false,
    "scrolled": true
   },
   "outputs": [
    {
     "name": "stdout",
     "output_type": "stream",
     "text": [
      "Top 5 Hours for Show Posts Points\n",
      "23:00: 42.39 average points per post.\n",
      "12:00: 41.69 average points per post.\n",
      "22:00: 40.35 average points per post.\n",
      "00:00: 37.84 average points per post.\n",
      "18:00: 36.31 average points per post.\n"
     ]
    }
   ],
   "source": [
    "#Frequency tables\n",
    "show_posts_by_hour={}\n",
    "show_points_by_hour={}\n",
    "\n",
    "for row in showhn_points_list:\n",
    "    formatted_time=dt.datetime.strptime(row[0], \"%m/%d/%Y %H:%M\")\n",
    "    #hour=formatted_time.hour # this also works, but hour returns as int type\n",
    "    hour=formatted_time.strftime(\"%H\")\n",
    "    \n",
    "    if hour not in show_posts_by_hour:\n",
    "        show_posts_by_hour[hour]=1\n",
    "        show_points_by_hour[hour]=row[1]\n",
    "    else:\n",
    "        show_posts_by_hour[hour]+=1\n",
    "        show_points_by_hour[hour]=show_points_by_hour[hour]+row[1]\n",
    "\n",
    "        \n",
    "avg_show_points_by_hour=[]\n",
    "\n",
    "for hours in show_posts_by_hour:\n",
    "    avg_show_points_by_hour.append([hours,show_points_by_hour[hours]/show_posts_by_hour[hours]])\n",
    "\n",
    "\n",
    "swap_avg_show_points_by_hour=[]\n",
    "for row in avg_show_points_by_hour:\n",
    "    temp=[]\n",
    "    temp.append(row[1])\n",
    "    temp.append(row[0])\n",
    "    swap_avg_show_points_by_hour.append(temp)\n",
    "    \n",
    "sorted_swap_show_points=sorted(swap_avg_show_points_by_hour, reverse=True)\n",
    "print(\"Top 5 Hours for Show Posts Points\")\n",
    "\n",
    "for row in sorted_swap_show_points[:5]:\n",
    "    dtt=dt.datetime.strptime(row[1],\"%H\")\n",
    "    d=dtt.strftime(\"%H\")\n",
    "    var=\"{}:00: {:.2f} average points per post.\".format(d,row[0],2)\n",
    "    print(var)\n"
   ]
  },
  {
   "cell_type": "markdown",
   "metadata": {},
   "source": [
    "Posts created at 23:00 receive the highest number of points for the show posts. But unlike the ask-hn posts, it is not possible to generalize a common time of the day for show hn posts, since the second high number of points are recevied by the show posts created at 12:00. "
   ]
  },
  {
   "cell_type": "markdown",
   "metadata": {
    "collapsed": true
   },
   "source": [
    "## Conclusion of the Further Analysis\n",
    "\n",
    "In contrast to the number of comments received by a post, the Show HN type posts receive more points than Ask HN type posts. \n",
    "\n",
    "* Average number of points for Ask HN posts are 15.06\n",
    "* Average number of points for Show HN posts are 27.56\n",
    "\n",
    "In terms of timing of the posts, the Show HN type posts created at 23:00-23:59 receive the most points. But examining the top 5 timings of the posts does not reveal a pattern for the best time to post.\n",
    "\n",
    "The best time to submit a Ask HN type post is 15:00 to receive the highest number of points, and this result is consistent with our analysis on number of comments. (The highest number of comments were received for the ASk HN type posts submitted at 15:00-15:59.)"
   ]
  },
  {
   "cell_type": "code",
   "execution_count": null,
   "metadata": {
    "collapsed": true
   },
   "outputs": [],
   "source": []
  }
 ],
 "metadata": {
  "kernelspec": {
   "display_name": "Python 3",
   "language": "python",
   "name": "python3"
  },
  "language_info": {
   "codemirror_mode": {
    "name": "ipython",
    "version": 3
   },
   "file_extension": ".py",
   "mimetype": "text/x-python",
   "name": "python",
   "nbconvert_exporter": "python",
   "pygments_lexer": "ipython3",
   "version": "3.4.3"
  }
 },
 "nbformat": 4,
 "nbformat_minor": 2
}
